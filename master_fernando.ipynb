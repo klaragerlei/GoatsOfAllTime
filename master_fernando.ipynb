{
  "nbformat": 4,
  "nbformat_minor": 0,
  "metadata": {
    "colab": {
      "name": "load_steinmetz_decisions.ipynb",
      "provenance": [],
      "collapsed_sections": [],
      "toc_visible": true,
      "include_colab_link": true
    },
    "kernelspec": {
      "name": "python3",
      "display_name": "Python 3"
    }
  },
  "cells": [
    {
      "cell_type": "markdown",
      "metadata": {
        "id": "view-in-github",
        "colab_type": "text"
      },
      "source": [
        "<a href=\"https://colab.research.google.com/github/klaragerlei/GoatsOfAllTime/blob/main/master_fernando.ipynb\" target=\"_parent\"><img src=\"https://colab.research.google.com/assets/colab-badge.svg\" alt=\"Open In Colab\"/></a>"
      ]
    },
    {
      "cell_type": "markdown",
      "metadata": {
        "id": "bEqdz1ZUMaj1"
      },
      "source": [
        "## Loading of Steinmetz data\n",
        "\n",
        "includes some visualizations"
      ]
    },
    {
      "cell_type": "code",
      "metadata": {
        "id": "TLWjKq8bLDqm",
        "cellView": "form"
      },
      "source": [
        "#@title Data retrieval\n",
        "import os, requests\n",
        "\n",
        "fname = []\n",
        "for j in range(3):\n",
        "  fname.append('steinmetz_part%d.npz'%j)\n",
        "url = [\"https://osf.io/agvxh/download\"]\n",
        "url.append(\"https://osf.io/uv3mw/download\")\n",
        "url.append(\"https://osf.io/ehmw2/download\")\n",
        "\n",
        "for j in range(len(url)):\n",
        "  if not os.path.isfile(fname[j]):\n",
        "    try:\n",
        "      r = requests.get(url[j])\n",
        "    except requests.ConnectionError:\n",
        "      print(\"!!! Failed to download data !!!\")\n",
        "    else:\n",
        "      if r.status_code != requests.codes.ok:\n",
        "        print(\"!!! Failed to download data !!!\")\n",
        "      else:\n",
        "        with open(fname[j], \"wb\") as fid:\n",
        "          fid.write(r.content)\n"
      ],
      "execution_count": 1,
      "outputs": []
    },
    {
      "cell_type": "code",
      "metadata": {
        "id": "raBVOEWgUK_B",
        "cellView": "form"
      },
      "source": [
        "#@title Import matplotlib and set defaults\n",
        "from matplotlib import rcParams \n",
        "from matplotlib import pyplot as plt\n",
        "\n",
        "rcParams['figure.figsize'] = [20, 4]\n",
        "rcParams['font.size'] =15\n",
        "rcParams['axes.spines.top'] = False\n",
        "rcParams['axes.spines.right'] = False\n",
        "rcParams['figure.autolayout'] = True"
      ],
      "execution_count": 2,
      "outputs": []
    },
    {
      "cell_type": "code",
      "metadata": {
        "id": "sffzC_hyLgWZ"
      },
      "source": [
        "#@title Data loading\n",
        "import numpy as np\n",
        "#test123\n",
        "alldat = np.array([])\n",
        "for j in range(len(fname)):\n",
        "  alldat = np.hstack((alldat, np.load('steinmetz_part%d.npz'%j, allow_pickle=True)['dat']))"
      ],
      "execution_count": 3,
      "outputs": []
    },
    {
      "cell_type": "markdown",
      "metadata": {
        "id": "5K7UT7dyj_6R"
      },
      "source": [
        "`alldat` contains 39 sessions from 10 mice, data from Steinmetz et al, 2019. Time bins for all measurements are 10ms, starting 500ms before stimulus onset. The mouse had to determine which side has the highest contrast. For each `dat = alldat[k]`, you have the fields below. For extra variables, check out the extra notebook and extra data files (lfp, waveforms and exact spike times, non-binned). \n",
        "\n",
        "* `dat['mouse_name']`: mouse name\n",
        "* `dat['date_exp']`: when a session was performed\n",
        "* `dat['spks']`: neurons by trials by time bins.    \n",
        "* `dat['brain_area']`: brain area for each neuron recorded. \n",
        "* `dat['ccf']`: Allen Institute brain atlas coordinates for each neuron. \n",
        "* `dat['ccf_axes']`: axes names for the Allen CCF. \n",
        "* `dat['contrast_right']`: contrast level for the right stimulus, which is always contralateral to the recorded brain areas.\n",
        "* `dat['contrast_left']`: contrast level for left stimulus. \n",
        "* `dat['gocue']`: when the go cue sound was played. \n",
        "* `dat['response_time']`: when the response was registered, which has to be after the go cue. The mouse can turn the wheel before the go cue (and nearly always does!), but the stimulus on the screen won't move before the go cue.  \n",
        "* `dat['response']`: which side the response was (`-1`, `0`, `1`). When the right-side stimulus had higher contrast, the correct choice was `-1`. `0` is a no go response. \n",
        "* `dat['feedback_time']`: when feedback was provided. \n",
        "* `dat['feedback_type']`: if the feedback was positive (`+1`, reward) or negative (`-1`, white noise burst).  \n",
        "* `dat['wheel']`: turning speed of the wheel that the mice uses to make a response, sampled at `10ms`. \n",
        "* `dat['pupil']`: pupil area  (noisy, because pupil is very small) + pupil horizontal and vertical position.\n",
        "* `dat['face']`: average face motion energy from a video camera. \n",
        "* `dat['licks']`: lick detections, 0 or 1.   \n",
        "* `dat['trough_to_peak']`: measures the width of the action potential waveform for each neuron. Widths `<=10` samples are \"putative fast spiking neurons\". \n",
        "* `dat['%X%_passive']`: same as above for `X` = {`spks`, `pupil`, `wheel`, `contrast_left`, `contrast_right`} but for  passive trials at the end of the recording when the mouse was no longer engaged and stopped making responses. \n",
        "* `dat['prev_reward']`: time of the feedback (reward/white noise) on the previous trial in relation to the current stimulus time. \n",
        "* `dat['reaction_time']`: ntrials by 2. First column: reaction time computed from the wheel movement as the first sample above `5` ticks/10ms bin. Second column: direction of the wheel movement (`0` = no move detected).  \n",
        "\n",
        "\n",
        "The original dataset is here: https://figshare.com/articles/dataset/Dataset_from_Steinmetz_et_al_2019/9598406"
      ]
    },
    {
      "cell_type": "code",
      "metadata": {
        "id": "JYhiUDTi1uAZ",
        "colab": {
          "base_uri": "https://localhost:8080/",
          "height": 718
        },
        "outputId": "fe3980a0-dc8c-494b-9313-831dee5da1f0"
      },
      "source": [
        "# Make a plot of which brain areas are present in each dataset\n",
        "# note that region 4 (\"other ctx\" are neurons that were not able to be classified)\n",
        "# region 4 does not correspond to brain_group 4, which are all cortical neurons outside of visual cortex\n",
        "regions = [\"vis ctx\", \"thal\", \"hipp\", \"other ctx\", \"midbrain\", \"basal ganglia\", \"cortical subplate\", \"other\"]\n",
        "region_colors = ['blue', 'red', 'green', 'darkblue', 'violet', 'lightblue', 'orange', 'gray']\n",
        "brain_groups = [[\"VISa\", \"VISam\", \"VISl\", \"VISp\", \"VISpm\", \"VISrl\"], # visual cortex\n",
        "                [\"CL\", \"LD\", \"LGd\", \"LH\", \"LP\", \"MD\", \"MG\", \"PO\", \"POL\", \"PT\", \"RT\", \"SPF\", \"TH\", \"VAL\", \"VPL\", \"VPM\"], # thalamus\n",
        "                [\"CA\", \"CA1\", \"CA2\", \"CA3\", \"DG\", \"SUB\", \"POST\"], # hippocampal\n",
        "                [\"ACA\", \"AUD\", \"COA\", \"DP\", \"ILA\", \"MOp\", \"MOs\", \"OLF\", \"ORB\", \"ORBm\", \"PIR\", \"PL\", \"SSp\", \"SSs\", \"RSP\",\"TT\"], # non-visual cortex\n",
        "                [\"APN\", \"IC\", \"MB\", \"MRN\", \"NB\", \"PAG\", \"RN\", \"SCs\", \"SCm\", \"SCig\", \"SCsg\", \"ZI\"], # midbrain\n",
        "                [\"ACB\", \"CP\", \"GPe\", \"LS\", \"LSc\", \"LSr\", \"MS\", \"OT\", \"SNr\", \"SI\"], # basal ganglia \n",
        "                [\"BLA\", \"BMA\", \"EP\", \"EPd\", \"MEA\"] # cortical subplate\n",
        "                ]\n",
        "\n",
        "# Assign each area an index\n",
        "area_to_index = dict(root=0)\n",
        "counter = 1\n",
        "for group in brain_groups:\n",
        "    for area in group:\n",
        "        area_to_index[area] = counter\n",
        "        counter += 1\n",
        "\n",
        "# Figure out which areas are in each dataset\n",
        "areas_by_dataset = np.zeros((counter, len(alldat)), dtype=bool)\n",
        "for j, d in enumerate(alldat):\n",
        "    for area in np.unique(d['brain_area']):\n",
        "        i = area_to_index[area]\n",
        "        areas_by_dataset[i, j] = True\n",
        "\n",
        "# Show the binary matrix\n",
        "plt.figure(figsize=(8, 10))\n",
        "plt.imshow(areas_by_dataset, cmap=\"Greys\", aspect=\"auto\", interpolation=\"none\")\n",
        "\n",
        "# Label the axes\n",
        "plt.xlabel(\"dataset\")\n",
        "plt.ylabel(\"area\")\n",
        "\n",
        "# Add tick labels\n",
        "yticklabels = [\"root\"]\n",
        "for group in brain_groups:\n",
        "    yticklabels.extend(group)\n",
        "plt.yticks(np.arange(counter), yticklabels, fontsize=8)\n",
        "plt.xticks(np.arange(len(alldat)), fontsize=9)\n",
        "\n",
        "# Color the tick labels by region\n",
        "ytickobjs = plt.gca().get_yticklabels()\n",
        "ytickobjs[0].set_color(\"black\")\n",
        "counter = 1\n",
        "for group, color in zip(brain_groups, region_colors):\n",
        "    for area in group:\n",
        "        ytickobjs[counter].set_color(color)\n",
        "        counter += 1\n",
        "\n",
        "plt.title(\"Brain areas present in each dataset\")\n",
        "plt.grid(True)"
      ],
      "execution_count": 4,
      "outputs": [
        {
          "output_type": "display_data",
          "data": {
            "image/png": "[encoded data removed]",
            "text/plain": [
              "<Figure size 576x720 with 1 Axes>"
            ]
          },
          "metadata": {
            "tags": []
          }
        }
      ]
    },
    {
      "cell_type": "code",
      "metadata": {
        "id": "tXHXBFyWyvXK"
      },
      "source": [
        ""
      ],
      "execution_count": 4,
      "outputs": []
    },
    {
      "cell_type": "markdown",
      "metadata": {
        "id": "HNiSiPDd7mG1"
      },
      "source": [
        "## **Check which areas were measured in which animal**"
      ]
    },
    {
      "cell_type": "code",
      "metadata": {
        "id": "G9JBpzz91D5Q",
        "colab": {
          "base_uri": "https://localhost:8080/"
        },
        "outputId": "50230ad8-96c4-45d7-b29d-f4b0401a2d25"
      },
      "source": [
        "def unique_areas(areas_list):\n",
        "  unique_areas = []\n",
        "  for area in areas_list:\n",
        "    if area not in unique_areas:\n",
        "      unique_areas.append(area)\n",
        "  return(unique_areas)\n",
        "\n",
        "for exp in range(len(alldat)):\n",
        "  print(f\"Dataset Num: {exp}\")\n",
        "  areas = unique_areas(alldat[exp]['brain_area'])\n",
        "  print(f\"Areas:{areas}\")\n",
        "  print()\n"
      ],
      "execution_count": 5,
      "outputs": [
        {
          "output_type": "stream",
          "text": [
            "Dataset Num: 0\n",
            "Areas:['ACA', 'MOs', 'LS', 'root', 'VISp', 'CA3', 'SUB', 'DG']\n",
            "\n",
            "Dataset Num: 1\n",
            "Areas:['CA1', 'VISl', 'root', 'VISpm', 'POST']\n",
            "\n",
            "Dataset Num: 2\n",
            "Areas:['DG', 'VISam', 'MG', 'CA1', 'SPF', 'root', 'LP', 'MRN', 'POST', 'NB', 'VISp']\n",
            "\n",
            "Dataset Num: 3\n",
            "Areas:['LGd', 'DG', 'TH', 'SUB', 'VPL', 'VISp', 'CA1', 'VISa', 'LSr', 'ACA', 'MOs']\n",
            "\n",
            "Dataset Num: 4\n",
            "Areas:['VISa', 'root', 'CA1', 'SUB', 'DG', 'OLF', 'ORB', 'ACA', 'PL', 'MOs']\n",
            "\n",
            "Dataset Num: 5\n",
            "Areas:['AUD', 'root', 'SSp', 'CA1', 'TH']\n",
            "\n",
            "Dataset Num: 6\n",
            "Areas:['VPL', 'root', 'CA3', 'LD', 'CP', 'EPd', 'SSp', 'PIR']\n",
            "\n",
            "Dataset Num: 7\n",
            "Areas:['ILA', 'TT', 'MOs', 'PL', 'LSr', 'root', 'LD', 'PO', 'CA3', 'VISa', 'CA1', 'LP', 'DG', 'VISp', 'SUB']\n",
            "\n",
            "Dataset Num: 8\n",
            "Areas:['TT', 'ORBm', 'PL', 'LSr', 'root', 'CA3', 'VISl', 'CA1', 'TH', 'VISam', 'VPL', 'LD']\n",
            "\n",
            "Dataset Num: 9\n",
            "Areas:['MB', 'VISp', 'SCm', 'SCsg', 'POST', 'DG', 'MRN', 'CA1', 'VISl', 'POL', 'root', 'GPe', 'VISrl']\n",
            "\n",
            "Dataset Num: 10\n",
            "Areas:['MOp', 'LSc', 'root', 'PT', 'CP', 'LSr']\n",
            "\n",
            "Dataset Num: 11\n",
            "Areas:['VISp', 'DG', 'SUB', 'LGd', 'PL', 'root', 'MOs', 'ACA', 'CA1', 'VISam', 'MD', 'LH']\n",
            "\n",
            "Dataset Num: 12\n",
            "Areas:['VISam', 'ZI', 'DG', 'CA1', 'LGd', 'MB', 'SCs', 'RN', 'MRN', 'SCm', 'ACA', 'PL', 'MS', 'root', 'MOs']\n",
            "\n",
            "Dataset Num: 13\n",
            "Areas:['ORB', 'MOs', 'root', 'MRN', 'SCm', 'SCs', 'VISp', 'RSP', 'CA1', 'PAG']\n",
            "\n",
            "Dataset Num: 14\n",
            "Areas:['BLA', 'GPe', 'root', 'VPM', 'LGd', 'ZI', 'MB', 'CA3']\n",
            "\n",
            "Dataset Num: 15\n",
            "Areas:['SSs', 'SSp', 'MB', 'TH', 'LGd', 'CA3']\n",
            "\n",
            "Dataset Num: 16\n",
            "Areas:['root', 'VPL', 'VPM', 'RT', 'MEA', 'LD']\n",
            "\n",
            "Dataset Num: 17\n",
            "Areas:['CP', 'ACB', 'OT', 'SI', 'SNr', 'LGd', 'ZI', 'CA3', 'root', 'TH']\n",
            "\n",
            "Dataset Num: 18\n",
            "Areas:['VISam', 'CA1', 'DG', 'POL', 'LP', 'APN', 'VISpm', 'root', 'SUB']\n",
            "\n",
            "Dataset Num: 19\n",
            "Areas:['LGd', 'CA1', 'VISa', 'TH', 'DG', 'MG', 'VISp', 'LP', 'SPF', 'SUB', 'root']\n",
            "\n",
            "Dataset Num: 20\n",
            "Areas:['MOp', 'LD', 'VAL', 'root', 'SSp']\n",
            "\n",
            "Dataset Num: 21\n",
            "Areas:['MOs', 'PL', 'TT', 'ACA', 'ACB', 'MRN', 'RSP', 'VISp', 'IC', 'SCsg']\n",
            "\n",
            "Dataset Num: 22\n",
            "Areas:['PO', 'VISam', 'LP', 'DG', 'CA1', 'root']\n",
            "\n",
            "Dataset Num: 23\n",
            "Areas:['root', 'VISrl', 'CA1', 'CA2', 'RSP', 'SCig', 'VISpm', 'SCsg', 'MRN']\n",
            "\n",
            "Dataset Num: 24\n",
            "Areas:['PL', 'DP', 'ACA', 'MOs', 'ILA', 'root', 'TT', 'MRN', 'SCig', 'VISp', 'RSP', 'SCsg']\n",
            "\n",
            "Dataset Num: 25\n",
            "Areas:['root', 'MOs', 'VISp', 'SCig', 'MRN']\n",
            "\n",
            "Dataset Num: 26\n",
            "Areas:['VISam', 'LP', 'PO', 'LD', 'CA1', 'DG', 'root', 'ACB', 'MOs', 'PL', 'ACA']\n",
            "\n",
            "Dataset Num: 27\n",
            "Areas:['SCig', 'VISpm', 'RSP', 'SCsg', 'root', 'MRN', 'POL', 'CA1', 'APN', 'LP', 'DG']\n",
            "\n",
            "Dataset Num: 28\n",
            "Areas:['CP', 'MOp', 'SSp']\n",
            "\n",
            "Dataset Num: 29\n",
            "Areas:['PO', 'LP', 'SUB', 'RSP', 'VPM', 'MD', 'DG', 'VISa', 'CA1', 'CL', 'ACA', 'MOs', 'LS', 'root']\n",
            "\n",
            "Dataset Num: 30\n",
            "Areas:['SNr', 'SCm', 'TH', 'CA3', 'POST', 'ORB', 'MOs', 'OLF']\n",
            "\n",
            "Dataset Num: 31\n",
            "Areas:['ORB', 'MOs', 'OLF', 'RSP', 'SCs', 'SCm', 'MRN', 'PAG', 'root']\n",
            "\n",
            "Dataset Num: 32\n",
            "Areas:['CP', 'EP', 'ZI', 'CA3', 'LGd', 'SNr', 'VPM', 'root', 'CA1']\n",
            "\n",
            "Dataset Num: 33\n",
            "Areas:['root', 'BMA', 'COA', 'RT', 'MB', 'PO', 'LP']\n",
            "\n",
            "Dataset Num: 34\n",
            "Areas:['LP', 'RSP', 'TH', 'LGd', 'root', 'VISam', 'MD', 'CA1', 'DG', 'LH', 'ACA', 'LS', 'MOs']\n",
            "\n",
            "Dataset Num: 35\n",
            "Areas:['root', 'CA', 'VISam', 'SCsg', 'MRN', 'SCm', 'PL', 'MOs']\n",
            "\n",
            "Dataset Num: 36\n",
            "Areas:['ORB', 'MOs', 'SCm', 'PAG', 'SCs', 'RSP', 'MB', 'VISam', 'root']\n",
            "\n",
            "Dataset Num: 37\n",
            "Areas:['BLA', 'GPe', 'root', 'LGd', 'CA3', 'SNr']\n",
            "\n",
            "Dataset Num: 38\n",
            "Areas:['SUB', 'VISp', 'root', 'DG', 'VISam', 'LP', 'CA1', 'ILA', 'PL', 'ACA', 'MOs']\n",
            "\n"
          ],
          "name": "stdout"
        }
      ]
    },
    {
      "cell_type": "markdown",
      "metadata": {
        "id": "aXhcBlHZDRBx"
      },
      "source": [
        "##**Get which experiments have our region of Interest**\n",
        "\n"
      ]
    },
    {
      "cell_type": "code",
      "metadata": {
        "id": "fDo-jgYtDNU-",
        "colab": {
          "base_uri": "https://localhost:8080/"
        },
        "outputId": "c31160c7-b32c-46b9-bbf3-bcc34a373ed8"
      },
      "source": [
        "exp_rois = []\n",
        "for exp in range(len(alldat)):\n",
        "    ROIs = unique_areas(alldat[exp]['brain_area'])\n",
        "    # if 'BLA' in ROIs:\n",
        "    #   print (f\"BLA recordings in this Exp: {exp}\")\n",
        "    #   exp_rois.append(exp)\n",
        "    if 'ZI' in ROIs:\n",
        "      print (f\"ZI recordings in this Exp: {exp}\")\n",
        "      exp_rois.append(exp)\n"
      ],
      "execution_count": 37,
      "outputs": [
        {
          "output_type": "stream",
          "text": [
            "ZI recordings in this Exp: 12\n",
            "ZI recordings in this Exp: 14\n",
            "ZI recordings in this Exp: 17\n",
            "ZI recordings in this Exp: 32\n"
          ],
          "name": "stdout"
        }
      ]
    },
    {
      "cell_type": "markdown",
      "metadata": {
        "id": "bHq7aqSN-Xiw"
      },
      "source": [
        "## **Our Experiments of interest are 12, 14, 17, 32, 37, are saved as exp_rois**\n"
      ]
    },
    {
      "cell_type": "code",
      "metadata": {
        "id": "BOfSoEb9ywVR",
        "colab": {
          "base_uri": "https://localhost:8080/"
        },
        "outputId": "0de1c64a-6581-4236-cdee-cc97fe579d2b"
      },
      "source": [
        "data = alldat[[exp_rois]]\n",
        "ephys_features = ['brain_area','ccf','spks','spks_passive']\n",
        "behav_features = ['pupil', 'pupil_passive', 'face', 'face_passive']\n",
        "all_features = ephys_features + behav_features\n",
        "\n",
        "# for exp in range(len(data)):\n",
        "#   data[exp] = data[exp]"
      ],
      "execution_count": 113,
      "outputs": [
        {
          "output_type": "stream",
          "text": [
            "/usr/local/lib/python3.7/dist-packages/ipykernel_launcher.py:1: FutureWarning: Using a non-tuple sequence for multidimensional indexing is deprecated; use `arr[tuple(seq)]` instead of `arr[seq]`. In the future this will be interpreted as an array index, `arr[np.array(seq)]`, which will result either in an error or a different result.\n",
            "  \"\"\"Entry point for launching an IPython kernel.\n"
          ],
          "name": "stderr"
        }
      ]
    },
    {
      "cell_type": "code",
      "metadata": {
        "id": "kjNr_cH_-Wi-"
      },
      "source": [
        "pupil_1 = data[0]['pupil'][0].flatten()\n",
        "a = data[0]['pupil_passive'][0].flatten()\n",
        "b = pupil_1 - a.mean()\n",
        "# spikes_1 = data[0]['spks']\n",
        "\n",
        "# spikes_1 = spikes_1.sum(axis = 0)\n",
        "# spikes_1 = spikes_1.flatten()"
      ],
      "execution_count": 125,
      "outputs": []
    },
    {
      "cell_type": "code",
      "metadata": {
        "id": "Q9J-fKqcywXg",
        "colab": {
          "base_uri": "https://localhost:8080/",
          "height": 273
        },
        "outputId": "6069c0bb-801d-4bb0-a702-1c7064e16f04"
      },
      "source": [
        "plt.plot(b)\n",
        "plt.ylim(-0.3, 0.7)"
      ],
      "execution_count": 127,
      "outputs": [
        {
          "output_type": "execute_result",
          "data": {
            "text/plain": [
              "(-0.3, 0.7)"
            ]
          },
          "metadata": {
            "tags": []
          },
          "execution_count": 127
        },
        {
          "output_type": "display_data",
          "data": {
            "image/png": "[encoded data removed]",
            "text/plain": [
              "<Figure size 1440x288 with 1 Axes>"
            ]
          },
          "metadata": {
            "tags": [],
            "needs_background": "light"
          }
        }
      ]
    },
    {
      "cell_type": "code",
      "metadata": {
        "id": "8j0ijSciywaE",
        "colab": {
          "base_uri": "https://localhost:8080/"
        },
        "outputId": "3dcb4acb-64e4-4643-afb2-2c7c025bf7f6"
      },
      "source": [
        "data[0]['pupil_passive'][0].flatten().mean()"
      ],
      "execution_count": 135,
      "outputs": [
        {
          "output_type": "execute_result",
          "data": {
            "text/plain": [
              "0.05925774059931334"
            ]
          },
          "metadata": {
            "tags": []
          },
          "execution_count": 135
        }
      ]
    },
    {
      "cell_type": "code",
      "metadata": {
        "id": "pHGYT9WWywcA"
      },
      "source": [
        "x = data[0]['pupil'][0]-data[0]['pupil_passive'][0].flatten().mean()"
      ],
      "execution_count": 142,
      "outputs": []
    },
    {
      "cell_type": "code",
      "metadata": {
        "id": "xkI6hnadyweS",
        "colab": {
          "base_uri": "https://localhost:8080/",
          "height": 197
        },
        "outputId": "48cd3a37-08a9-4ee5-9094-092e27e0a1ab"
      },
      "source": [
        "plt.plot(x.T)\n",
        "plt.ylim(-0.2, 0.5)\n",
        "# plt.xlim(0,350)"
      ],
      "execution_count": 1,
      "outputs": [
        {
          "output_type": "error",
          "ename": "NameError",
          "evalue": "ignored",
          "traceback": [
            "\u001b[0;31m---------------------------------------------------------------------------\u001b[0m",
            "\u001b[0;31mNameError\u001b[0m                                 Traceback (most recent call last)",
            "\u001b[0;32m<ipython-input-1-530f583b045d>\u001b[0m in \u001b[0;36m<module>\u001b[0;34m()\u001b[0m\n\u001b[0;32m----> 1\u001b[0;31m \u001b[0mplt\u001b[0m\u001b[0;34m.\u001b[0m\u001b[0mplot\u001b[0m\u001b[0;34m(\u001b[0m\u001b[0mx\u001b[0m\u001b[0;34m.\u001b[0m\u001b[0mT\u001b[0m\u001b[0;34m)\u001b[0m\u001b[0;34m\u001b[0m\u001b[0;34m\u001b[0m\u001b[0m\n\u001b[0m\u001b[1;32m      2\u001b[0m \u001b[0mplt\u001b[0m\u001b[0;34m.\u001b[0m\u001b[0mylim\u001b[0m\u001b[0;34m(\u001b[0m\u001b[0;34m-\u001b[0m\u001b[0;36m0.2\u001b[0m\u001b[0;34m,\u001b[0m \u001b[0;36m0.5\u001b[0m\u001b[0;34m)\u001b[0m\u001b[0;34m\u001b[0m\u001b[0;34m\u001b[0m\u001b[0m\n\u001b[1;32m      3\u001b[0m \u001b[0;31m# plt.xlim(0,350)\u001b[0m\u001b[0;34m\u001b[0m\u001b[0;34m\u001b[0m\u001b[0;34m\u001b[0m\u001b[0m\n",
            "\u001b[0;31mNameError\u001b[0m: name 'plt' is not defined"
          ]
        }
      ]
    },
    {
      "cell_type": "code",
      "metadata": {
        "id": "zauyOZdwywgm"
      },
      "source": [
        ""
      ],
      "execution_count": null,
      "outputs": []
    },
    {
      "cell_type": "code",
      "metadata": {
        "id": "mmOarX5w16CR",
        "cellView": "form"
      },
      "source": [
        "#@title basic plots of population average\n",
        "\n",
        "# select just one of the recordings here. 11 is nice because it has some neurons in vis ctx. \n",
        "dat = alldat[11]\n",
        "print(dat.keys())\n",
        "\n",
        "dt = dat['bin_size'] # binning at 10 ms\n",
        "NT = dat['spks'].shape[-1]\n",
        "\n",
        "ax = plt.subplot(1,5,1)\n",
        "response = dat['response'] # right - nogo - left (-1, 0, 1)\n",
        "vis_right = dat['contrast_right'] # 0 - low - high\n",
        "vis_left = dat['contrast_left'] # 0 - low - high\n",
        "plt.plot(dt * np.arange(NT), 1/dt * dat['spks'][:,response>=0].mean(axis=(0,1))) # left responses\n",
        "plt.plot(dt * np.arange(NT), 1/dt * dat['spks'][:,response<0].mean(axis=(0,1))) # right responses\n",
        "plt.plot(dt * np.arange(NT), 1/dt * dat['spks'][:,vis_right>0].mean(axis=(0,1))) # stimulus on the right\n",
        "plt.plot(dt * np.arange(NT), 1/dt * dat['spks'][:,vis_right==0].mean(axis=(0,1))) # no stimulus on the right\n",
        "\n",
        "plt.legend(['left resp', 'right resp', 'right stim', 'no right stim'], fontsize=12)\n",
        "ax.set(xlabel  = 'time (sec)', ylabel = 'firing rate (Hz)');"
      ],
      "execution_count": null,
      "outputs": []
    },
    {
      "cell_type": "code",
      "metadata": {
        "id": "1T40IuyU5D0B",
        "colab": {
          "base_uri": "https://localhost:8080/",
          "height": 231
        },
        "outputId": "9f877599-ca63-4107-cf03-7253e542360d"
      },
      "source": [
        "nareas = 4 # only the top 4 regions are in this particular mouse\n",
        "NN = len(dat['brain_area']) # number of neurons\n",
        "barea = nareas * np.ones(NN, ) # last one is \"other\"\n",
        "for j in range(nareas):\n",
        "  barea[np.isin(dat['brain_area'], brain_groups[j])] = j # assign a number to each region"
      ],
      "execution_count": 106,
      "outputs": [
        {
          "output_type": "error",
          "ename": "NameError",
          "evalue": "ignored",
          "traceback": [
            "\u001b[0;31m---------------------------------------------------------------------------\u001b[0m",
            "\u001b[0;31mNameError\u001b[0m                                 Traceback (most recent call last)",
            "\u001b[0;32m<ipython-input-106-b66663de2a95>\u001b[0m in \u001b[0;36m<module>\u001b[0;34m()\u001b[0m\n\u001b[1;32m      1\u001b[0m \u001b[0mnareas\u001b[0m \u001b[0;34m=\u001b[0m \u001b[0;36m4\u001b[0m \u001b[0;31m# only the top 4 regions are in this particular mouse\u001b[0m\u001b[0;34m\u001b[0m\u001b[0;34m\u001b[0m\u001b[0m\n\u001b[0;32m----> 2\u001b[0;31m \u001b[0mNN\u001b[0m \u001b[0;34m=\u001b[0m \u001b[0mlen\u001b[0m\u001b[0;34m(\u001b[0m\u001b[0mdat\u001b[0m\u001b[0;34m[\u001b[0m\u001b[0;34m'brain_area'\u001b[0m\u001b[0;34m]\u001b[0m\u001b[0;34m)\u001b[0m \u001b[0;31m# number of neurons\u001b[0m\u001b[0;34m\u001b[0m\u001b[0;34m\u001b[0m\u001b[0m\n\u001b[0m\u001b[1;32m      3\u001b[0m \u001b[0mbarea\u001b[0m \u001b[0;34m=\u001b[0m \u001b[0mnareas\u001b[0m \u001b[0;34m*\u001b[0m \u001b[0mnp\u001b[0m\u001b[0;34m.\u001b[0m\u001b[0mones\u001b[0m\u001b[0;34m(\u001b[0m\u001b[0mNN\u001b[0m\u001b[0;34m,\u001b[0m \u001b[0;34m)\u001b[0m \u001b[0;31m# last one is \"other\"\u001b[0m\u001b[0;34m\u001b[0m\u001b[0;34m\u001b[0m\u001b[0m\n\u001b[1;32m      4\u001b[0m \u001b[0;32mfor\u001b[0m \u001b[0mj\u001b[0m \u001b[0;32min\u001b[0m \u001b[0mrange\u001b[0m\u001b[0;34m(\u001b[0m\u001b[0mnareas\u001b[0m\u001b[0;34m)\u001b[0m\u001b[0;34m:\u001b[0m\u001b[0;34m\u001b[0m\u001b[0;34m\u001b[0m\u001b[0m\n\u001b[1;32m      5\u001b[0m   \u001b[0mbarea\u001b[0m\u001b[0;34m[\u001b[0m\u001b[0mnp\u001b[0m\u001b[0;34m.\u001b[0m\u001b[0misin\u001b[0m\u001b[0;34m(\u001b[0m\u001b[0mdat\u001b[0m\u001b[0;34m[\u001b[0m\u001b[0;34m'brain_area'\u001b[0m\u001b[0;34m]\u001b[0m\u001b[0;34m,\u001b[0m \u001b[0mbrain_groups\u001b[0m\u001b[0;34m[\u001b[0m\u001b[0mj\u001b[0m\u001b[0;34m]\u001b[0m\u001b[0;34m)\u001b[0m\u001b[0;34m]\u001b[0m \u001b[0;34m=\u001b[0m \u001b[0mj\u001b[0m \u001b[0;31m# assign a number to each region\u001b[0m\u001b[0;34m\u001b[0m\u001b[0;34m\u001b[0m\u001b[0m\n",
            "\u001b[0;31mNameError\u001b[0m: name 'dat' is not defined"
          ]
        }
      ]
    },
    {
      "cell_type": "code",
      "metadata": {
        "id": "lqMJRWZM2haT"
      },
      "source": [
        "#@title plots by brain region and visual conditions\n",
        "for j in range(nareas):\n",
        "  ax = plt.subplot(1,nareas,j+1)\n",
        "  \n",
        "  plt.plot(1/dt *  dat['spks'][barea==j][:,np.logical_and(vis_left==0, vis_right>0)].mean(axis=(0,1)))\n",
        "  plt.plot(1/dt *  dat['spks'][barea==j][:,np.logical_and(vis_left>0 , vis_right==0)].mean(axis=(0,1)))\n",
        "  plt.plot(1/dt *  dat['spks'][barea==j][:,np.logical_and(vis_left==0 , vis_right==0)].mean(axis=(0,1)))\n",
        "  plt.plot(1/dt *  dat['spks'][barea==j][:,np.logical_and(vis_left>0, vis_right>0)].mean(axis=(0,1)))  \n",
        "  plt.text(.25, .92, 'n=%d'%np.sum(barea==j), transform=ax.transAxes)\n",
        " \n",
        "  if j==0:\n",
        "    plt.legend(['right only', 'left only', 'neither', 'both'], fontsize=12)\n",
        "  ax.set(xlabel = 'binned time', ylabel = 'mean firing rate (Hz)', title = regions[j])\n"
      ],
      "execution_count": null,
      "outputs": []
    },
    {
      "cell_type": "code",
      "metadata": {
        "id": "vQA2tqAr-WSO"
      },
      "source": [
        "#@title plots by brain region and response type\n",
        "for j in range(nareas):\n",
        "  ax = plt.subplot(1,nareas,j+1)\n",
        "  plt.title(regions[j])\n",
        "  if np.sum(barea==j)==0:\n",
        "    continue\n",
        "  plt.plot(1/dt * dat['spks'][barea==j][:,response<0].mean(axis=(0,1)))  \n",
        "  plt.plot(1/dt * dat['spks'][barea==j][:,response>0].mean(axis=(0,1)))\n",
        "  plt.plot(1/dt * dat['spks'][barea==j][:,response==0].mean(axis=(0,1)))\n",
        " \n",
        "  if j==0:\n",
        "    plt.legend(['resp = left', 'resp = right', 'resp = none'], fontsize=12)\n",
        "  ax.set(xlabel = 'time', ylabel = 'mean firing rate (Hz)')\n"
      ],
      "execution_count": null,
      "outputs": []
    },
    {
      "cell_type": "code",
      "metadata": {
        "id": "vk69J9u-AV-2"
      },
      "source": [
        "#@title top PC directions from stimulus + response period, with projections of the entire duration\n",
        "from sklearn.decomposition import PCA \n",
        "\n",
        "droll = np.reshape(dat['spks'][:,:,51:130], (NN,-1)) # first 80 bins = 1.6 sec\n",
        "droll = droll - np.mean(droll, axis=1)[:, np.newaxis]\n",
        "model = PCA(n_components = 5).fit(droll.T)\n",
        "W = model.components_\n",
        "pc_10ms = W @ np.reshape(dat['spks'], (NN,-1))\n",
        "pc_10ms = np.reshape(pc_10ms, (5, -1, NT))"
      ],
      "execution_count": null,
      "outputs": []
    },
    {
      "cell_type": "code",
      "metadata": {
        "id": "VmAKoW85hZz7"
      },
      "source": [
        "#@title The top PCs capture most variance across the brain. What do they care about? \n",
        "plt.figure(figsize= (20, 6))\n",
        "for j in range(len(pc_10ms)):\n",
        "  ax = plt.subplot(2,len(pc_10ms)+1,j+1)\n",
        "  pc1 = pc_10ms[j]\n",
        "\n",
        "  plt.plot(pc1[np.logical_and(vis_left==0, vis_right>0), :].mean(axis=0))  \n",
        "  plt.plot(pc1[np.logical_and(vis_left>0, vis_right==0), :].mean(axis=0))\n",
        "  plt.plot(pc1[np.logical_and(vis_left==0, vis_right==0), :].mean(axis=0))\n",
        "  plt.plot(pc1[np.logical_and(vis_left>0, vis_right>0), :].mean(axis=0))\n",
        "   \n",
        "  if j==0:\n",
        "    plt.legend(['right only', 'left only', 'neither', 'both'], fontsize=8)\n",
        "  ax.set(xlabel = 'binned time', ylabel = 'mean firing rate (Hz)')\n",
        "  plt.title('PC %d'%j)\n",
        "\n",
        "  ax = plt.subplot(2,len(pc_10ms)+1,len(pc_10ms)+1 + j+1)\n",
        "  \n",
        "  plt.plot(pc1[response>0, :].mean(axis=0))  \n",
        "  plt.plot(pc1[response<0, :].mean(axis=0))\n",
        "  plt.plot(pc1[response==0, :].mean(axis=0))\n",
        "\n",
        "  if j==0:\n",
        "    plt.legend(['resp = left', 'resp = right', 'resp = none'], fontsize=8)\n",
        "  ax.set(xlabel = 'binned time', ylabel = 'mean firing rate (Hz)')\n",
        "  plt.title('PC %d'%j)"
      ],
      "execution_count": null,
      "outputs": []
    },
    {
      "cell_type": "code",
      "metadata": {
        "id": "6QZ-eFRwj3at"
      },
      "source": [
        "#@title now sort all trials by response latency and see if the PCs care about that.\n",
        "from scipy.stats import zscore\n",
        "\n",
        "isort = np.argsort(dat['response_time'].flatten())\n",
        "\n",
        "for j in range(len(pc_10ms)):\n",
        "  ax = plt.subplot(1,len(pc_10ms)+1,j+1)\n",
        "  pc1 = zscore(pc_10ms[j])\n",
        "  plt.imshow(pc1[isort, :], aspect='auto', vmax=2, vmin = -2, cmap = 'gray')\n",
        "  ax.set(xlabel = 'binned time', ylabel = 'trials sorted by latency')\n",
        "  plt.title('PC %d'%j)"
      ],
      "execution_count": null,
      "outputs": []
    },
    {
      "cell_type": "code",
      "metadata": {
        "id": "C-90MWoY15kh"
      },
      "source": [
        "#@title correct vs incorrect trials\n",
        "# the following are the correct responses:\n",
        "# if vis_left > vis_right : response >0\n",
        "# if vis_left < vis_right : response <0\n",
        "# if vis_left = vis_right : response =0\n",
        "# trials below red line are incorrect\n",
        "is_correct = np.sign(response)==np.sign(vis_left-vis_right)\n",
        "\n",
        "# sort by correct, and then by response\n",
        "isort = np.argsort(-is_correct.astype('float32') + response/10) \n",
        "\n",
        "nwrong = np.sum(is_correct)\n",
        "for j in range(len(pc_10ms)):\n",
        "  ax = plt.subplot(1,len(pc_10ms)+1,j+1)\n",
        "  pc1 = zscore(pc_10ms[j])\n",
        "  plt.imshow(pc1[isort, :], aspect='auto', vmax=2, vmin = -2, cmap = 'gray')\n",
        "  ax.set(xlabel = 'binned time')\n",
        "  if j==0:\n",
        "    ax.set(ylabel = 'trials sorted by latency')  \n",
        "  plt.title('PC %d'%j)\n",
        "\n",
        "  plt.plot([0, NT], [nwrong, nwrong], 'r')\n"
      ],
      "execution_count": null,
      "outputs": []
    },
    {
      "cell_type": "code",
      "metadata": {
        "id": "2HgiWh4Vb2Su"
      },
      "source": [
        "# plot the behavioral data (pupil area is noisy because it's very small)\n",
        "\n",
        "ax = plt.subplot(1,5,1)\n",
        "plt.plot(dat['pupil'][0, :].mean(0));\n",
        "ax.set(ylabel='pupil area', xlabel = 'binned time', title='Pupil dynamics')\n",
        "\n",
        "yl = [-10, 10]\n",
        "ax = plt.subplot(1,5,2)\n",
        "plt.plot(dat['wheel'][0, response>0].mean(0));\n",
        "ax.set(ylim=yl)\n",
        "ax.set(ylim=yl, ylabel='wheel turns', xlabel = 'binned time', title='Left choices');\n",
        "\n",
        "ax = plt.subplot(1,5,3)\n",
        "plt.plot(dat['wheel'][0, response<0].mean(0));\n",
        "ax.set(ylim=yl)\n",
        "ax.set(ylim=yl, ylabel='wheel turns', xlabel = 'binned time', title='Right choices');\n",
        "\n",
        "ax = plt.subplot(1,5,4)\n",
        "plt.plot(dat['wheel'][0, response==0].mean(0));\n",
        "ax.set(ylim=yl, ylabel='wheel turns', xlabel = 'binned time', title='No go choices');\n"
      ],
      "execution_count": null,
      "outputs": []
    },
    {
      "cell_type": "code",
      "metadata": {
        "id": "9JkyGhv0xvCQ"
      },
      "source": [
        "# plots by brain region and visual conditions for PASSIVE trials\n",
        "vis_left_p = dat['contrast_left_passive']\n",
        "vis_right_p = dat['contrast_right_passive']\n",
        "for j in range(nareas):\n",
        "  ax = plt.subplot(1,nareas,j+1)\n",
        "  plt.title(regions[j])\n",
        "  \n",
        "  plt.plot(1/dt *  dat['spks_passive'][barea==j][:,np.logical_and(vis_left_p==0, vis_right_p>0)].mean(axis=(0,1)))\n",
        "  plt.plot(1/dt *  dat['spks_passive'][barea==j][:,np.logical_and(vis_left_p>0 , vis_right_p==0)].mean(axis=(0,1)))\n",
        "  #plt.plot(1/dt *  dat['spks_passive'][barea==j][:,np.logical_and(vis_left_p==0 , vis_right_p==0)].mean(axis=(0,1)))\n",
        "  plt.plot(1/dt *  dat['spks_passive'][barea==j][:,np.logical_and(vis_left_p>0, vis_right_p>0)].mean(axis=(0,1)))  \n",
        "  plt.text(.25, .92, 'n=%d'%np.sum(barea==j), transform=ax.transAxes)\n",
        " \n",
        "  if j==0:\n",
        "    plt.legend(['right only', 'left only', 'both'], fontsize=12)\n",
        "  ax.set(xlabel = 'binned time', ylabel = 'mean firing rate (Hz)')"
      ],
      "execution_count": null,
      "outputs": []
    },
    {
      "cell_type": "code",
      "metadata": {
        "id": "WDb-nHAi3l3i"
      },
      "source": [
        "# for more variables check out the additional notebook (load_steinmetz_extra) which includes LFP, waveform shapes and exact spike times (non-binned)\n",
        "\n",
        "#test2222"
      ],
      "execution_count": null,
      "outputs": []
    }
  ]
}